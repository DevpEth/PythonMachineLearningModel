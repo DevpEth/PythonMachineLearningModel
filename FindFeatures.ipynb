{
 "cells": [
  {
   "cell_type": "code",
   "execution_count": 1,
   "metadata": {
    "colab": {
     "base_uri": "https://localhost:8080/"
    },
    "id": "I762YvaxJLJg",
    "outputId": "97aa2000-b1e6-4a77-8080-2d795142164b"
   },
   "outputs": [
    {
     "name": "stdout",
     "output_type": "stream",
     "text": [
      "Downloading from https://www.kaggle.com/api/v1/datasets/download/lainguyn123/student-performance-factors?dataset_version_number=6...\n"
     ]
    },
    {
     "name": "stderr",
     "output_type": "stream",
     "text": [
      "100%|██████████| 93.9k/93.9k [00:00<00:00, 918kB/s]"
     ]
    },
    {
     "name": "stdout",
     "output_type": "stream",
     "text": [
      "Extracting files...\n",
      "Path to dataset files: /root/.cache/kagglehub/datasets/lainguyn123/student-performance-factors/versions/6\n"
     ]
    },
    {
     "name": "stderr",
     "output_type": "stream",
     "text": [
      "\n"
     ]
    }
   ],
   "source": [
    "import kagglehub\n",
    "\n",
    "# Download latest version\n",
    "path = kagglehub.dataset_download(\"lainguyn123/student-performance-factors\")\n",
    "print(\"Path to dataset files:\", path)\n",
    "csv_file_path = path + \"/StudentPerformanceFactors.csv\"\n"
   ]
  },
  {
   "cell_type": "code",
   "execution_count": null,
   "metadata": {
    "colab": {
     "base_uri": "https://localhost:8080/",
     "height": 303
    },
    "id": "ixNus-0eJXeN",
    "outputId": "c685ed11-e781-4814-f396-49f679365b54"
   },
   "outputs": [
    {
     "data": {
      "text/html": [
       "<div>\n",
       "<style scoped>\n",
       "    .dataframe tbody tr th:only-of-type {\n",
       "        vertical-align: middle;\n",
       "    }\n",
       "\n",
       "    .dataframe tbody tr th {\n",
       "        vertical-align: top;\n",
       "    }\n",
       "\n",
       "    .dataframe thead th {\n",
       "        text-align: right;\n",
       "    }\n",
       "</style>\n",
       "<table border=\"1\" class=\"dataframe\">\n",
       "  <thead>\n",
       "    <tr style=\"text-align: right;\">\n",
       "      <th></th>\n",
       "      <th>Exam_Score</th>\n",
       "    </tr>\n",
       "  </thead>\n",
       "  <tbody>\n",
       "    <tr>\n",
       "      <th>Exam_Score</th>\n",
       "      <td>1.000000</td>\n",
       "    </tr>\n",
       "    <tr>\n",
       "      <th>Attendance</th>\n",
       "      <td>0.581072</td>\n",
       "    </tr>\n",
       "    <tr>\n",
       "      <th>Hours_Studied</th>\n",
       "      <td>0.445455</td>\n",
       "    </tr>\n",
       "    <tr>\n",
       "      <th>Previous_Scores</th>\n",
       "      <td>0.175079</td>\n",
       "    </tr>\n",
       "    <tr>\n",
       "      <th>Tutoring_Sessions</th>\n",
       "      <td>0.156525</td>\n",
       "    </tr>\n",
       "    <tr>\n",
       "      <th>Physical_Activity</th>\n",
       "      <td>0.027824</td>\n",
       "    </tr>\n",
       "    <tr>\n",
       "      <th>Sleep_Hours</th>\n",
       "      <td>-0.017022</td>\n",
       "    </tr>\n",
       "  </tbody>\n",
       "</table>\n",
       "</div><br><label><b>dtype:</b> float64</label>"
      ],
      "text/plain": [
       "Exam_Score           1.000000\n",
       "Attendance           0.581072\n",
       "Hours_Studied        0.445455\n",
       "Previous_Scores      0.175079\n",
       "Tutoring_Sessions    0.156525\n",
       "Physical_Activity    0.027824\n",
       "Sleep_Hours         -0.017022\n",
       "Name: Exam_Score, dtype: float64"
      ]
     },
     "execution_count": 2,
     "metadata": {},
     "output_type": "execute_result"
    }
   ],
   "source": [
    "import pandas as pd\n",
    "\n",
    "#create df\n",
    "df = pd.read_csv(csv_file_path)\n",
    "\n",
    "#find number of records and columns in df\n",
    "#6607 records, 20 columns (also given from the dataset itself)\n",
    "df.shape[0]\n",
    "df.shape[1]\n",
    "\n",
    "#check for missing values/duplicates and also check the datatypes of the dataset\n",
    "df.isnull().sum().sum\n",
    "df.duplicated().sum()\n",
    "df.dtypes\n",
    "\n",
    "#handling missing values\n",
    "df['Teacher_Quality'] = df['Teacher_Quality'].fillna(df['Teacher_Quality'].mode()[0])\n",
    "df['Parental_Education_Level'] = df['Parental_Education_Level'].fillna(df['Parental_Education_Level'].mode()[0])\n",
    "df['Distance_from_Home'] = df['Distance_from_Home'].fillna(df['Distance_from_Home'].mode()[0])\n",
    "\n",
    "#this df includes only number values\n",
    "only_numbers_df = df.select_dtypes(include='number')\n",
    "\n",
    "#create correlation_matrix\n",
    "correlation_matrix = only_numbers_df.corr()\n",
    "\n",
    "#find the best features for 'Exam_Score'\n",
    "correlation_target = correlation_matrix['Exam_Score'].sort_values(ascending=False)\n",
    "\n",
    "correlation_target\n",
    "\n",
    "\n"
   ]
  }
 ],
 "metadata": {
  "colab": {
   "provenance": []
  },
  "kernelspec": {
   "display_name": "Python 3",
   "name": "python3"
  },
  "language_info": {
   "name": "python"
  }
 },
 "nbformat": 4,
 "nbformat_minor": 0
}
